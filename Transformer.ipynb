{
  "nbformat": 4,
  "nbformat_minor": 0,
  "metadata": {
    "colab": {
      "provenance": [],
      "authorship_tag": "ABX9TyON5SbVZpGl1cB8ljqyEpKB",
      "include_colab_link": true
    },
    "kernelspec": {
      "name": "python3",
      "display_name": "Python 3"
    },
    "language_info": {
      "name": "python"
    }
  },
  "cells": [
    {
      "cell_type": "markdown",
      "metadata": {
        "id": "view-in-github",
        "colab_type": "text"
      },
      "source": [
        "<a href=\"https://colab.research.google.com/github/nisharampra/Transformer/blob/main/Transformer.ipynb\" target=\"_parent\"><img src=\"https://colab.research.google.com/assets/colab-badge.svg\" alt=\"Open In Colab\"/></a>"
      ]
    },
    {
      "cell_type": "markdown",
      "source": [
        "\n",
        "Importing libraries\n",
        "\n"
      ],
      "metadata": {
        "id": "WSWYKkshHF0T"
      }
    },
    {
      "cell_type": "code",
      "execution_count": 16,
      "metadata": {
        "id": "bCo71hjYHAoV"
      },
      "outputs": [],
      "source": [
        "import torch\n",
        "import torch.nn as nn\n",
        "import torch.optim as optim\n",
        "import torch.utils.data as data\n",
        "import math\n",
        "import copy"
      ]
    },
    {
      "cell_type": "markdown",
      "source": [
        "2. Defining the basic building blocks: Multi-Head Attention, Position-wise Feed-Forward Networks, Positional Encoding\n"
      ],
      "metadata": {
        "id": "OcJHrvG6HWsH"
      }
    },
    {
      "cell_type": "markdown",
      "source": [
        "Multi-head Attention\n"
      ],
      "metadata": {
        "id": "Nztp7mYDHXg2"
      }
    },
    {
      "cell_type": "code",
      "source": [
        "class MultiHeadAttention(nn.Module):\n",
        "    def __init__(self, d_model, num_heads):\n",
        "        super(MultiHeadAttention, self).__init__()\n",
        "        # Ensure that the model dimension (d_model) is divisible by the number of heads\n",
        "        assert d_model % num_heads == 0, \"d_model must be divisible by num_heads\"\n",
        "\n",
        "        # Initialize dimensions\n",
        "        self.d_model = d_model # Model's dimension\n",
        "        self.num_heads = num_heads # Number of attention heads\n",
        "        self.d_k = d_model // num_heads # Dimension of each head's key, query, and value\n",
        "\n",
        "        # Linear layers for transforming inputs\n",
        "        self.W_q = nn.Linear(d_model, d_model) # Query transformation\n",
        "        self.W_k = nn.Linear(d_model, d_model) # Key transformation\n",
        "        self.W_v = nn.Linear(d_model, d_model) # Value transformation\n",
        "        self.W_o = nn.Linear(d_model, d_model) # Output transformation\n",
        "\n",
        "    def scaled_dot_product_attention(self, Q, K, V, mask=None):\n",
        "        # Calculate attention scores\n",
        "        attn_scores = torch.matmul(Q, K.transpose(-2, -1)) / math.sqrt(self.d_k)\n",
        "\n",
        "        # Apply mask if provided (useful for preventing attention to certain parts like padding)\n",
        "        if mask is not None:\n",
        "            attn_scores = attn_scores.masked_fill(mask == 0, -1e9)\n",
        "\n",
        "        # Softmax is applied to obtain attention probabilities\n",
        "        attn_probs = torch.softmax(attn_scores, dim=-1)\n",
        "\n",
        "        # Multiply by values to obtain the final output\n",
        "        output = torch.matmul(attn_probs, V)\n",
        "        return output\n",
        "\n",
        "    def split_heads(self, x):\n",
        "        # Reshape the input to have num_heads for multi-head attention\n",
        "        batch_size, seq_length, d_model = x.size()\n",
        "        return x.view(batch_size, seq_length, self.num_heads, self.d_k).transpose(1, 2)\n",
        "\n",
        "    def combine_heads(self, x):\n",
        "        # Combine the multiple heads back to original shape\n",
        "        batch_size, _, seq_length, d_k = x.size()\n",
        "        return x.transpose(1, 2).contiguous().view(batch_size, seq_length, self.d_model)\n",
        "\n",
        "    def forward(self, Q, K, V, mask=None):\n",
        "        # Apply linear transformations and split heads\n",
        "        Q = self.split_heads(self.W_q(Q))\n",
        "        K = self.split_heads(self.W_k(K))\n",
        "        V = self.split_heads(self.W_v(V))\n",
        "\n",
        "        # Perform scaled dot-product attention\n",
        "        attn_output = self.scaled_dot_product_attention(Q, K, V, mask)\n",
        "\n",
        "        # Combine heads and apply output transformation\n",
        "        output = self.W_o(self.combine_heads(attn_output))\n",
        "        return output"
      ],
      "metadata": {
        "id": "GptIRAmcHY13"
      },
      "execution_count": 17,
      "outputs": []
    },
    {
      "cell_type": "markdown",
      "source": [
        "Position-wise Feed-Forward Networks\n",
        "\n"
      ],
      "metadata": {
        "id": "ttsr85vrIY3L"
      }
    },
    {
      "cell_type": "code",
      "source": [
        "class PositionWiseFeedForward(nn.Module):\n",
        "    def __init__(self, d_model, d_ff):\n",
        "        super(PositionWiseFeedForward, self).__init__()\n",
        "        self.fc1 = nn.Linear(d_model, d_ff)\n",
        "        self.fc2 = nn.Linear(d_ff, d_model)\n",
        "        self.relu = nn.ReLU()\n",
        "\n",
        "    def forward(self, x):\n",
        "        return self.fc2(self.relu(self.fc1(x)))"
      ],
      "metadata": {
        "id": "IcWaRSd-HuKb"
      },
      "execution_count": 18,
      "outputs": []
    },
    {
      "cell_type": "markdown",
      "source": [
        "Positional Encoding\n"
      ],
      "metadata": {
        "id": "qmLZhqlCIfRw"
      }
    },
    {
      "cell_type": "code",
      "source": [
        "class PositionalEncoding(nn.Module):\n",
        "    def __init__(self, d_model, max_seq_length):\n",
        "        super(PositionalEncoding, self).__init__()\n",
        "\n",
        "        pe = torch.zeros(max_seq_length, d_model)\n",
        "        position = torch.arange(0, max_seq_length, dtype=torch.float).unsqueeze(1)\n",
        "        div_term = torch.exp(torch.arange(0, d_model, 2).float() * -(math.log(10000.0) / d_model))\n",
        "\n",
        "        pe[:, 0::2] = torch.sin(position * div_term)\n",
        "        pe[:, 1::2] = torch.cos(position * div_term)\n",
        "\n",
        "        self.register_buffer('pe', pe.unsqueeze(0))\n",
        "\n",
        "    def forward(self, x):\n",
        "        return x + self.pe[:, :x.size(1)]"
      ],
      "metadata": {
        "id": "LCklmfZrIavR"
      },
      "execution_count": 19,
      "outputs": []
    },
    {
      "cell_type": "markdown",
      "source": [
        "Building the Encoder Blocks"
      ],
      "metadata": {
        "id": "GTVTcg3yIlrN"
      }
    },
    {
      "cell_type": "code",
      "source": [
        "class EncoderLayer(nn.Module):\n",
        "    def __init__(self, d_model, num_heads, d_ff, dropout):\n",
        "        super(EncoderLayer, self).__init__()\n",
        "        self.self_attn = MultiHeadAttention(d_model, num_heads)\n",
        "        self.feed_forward = PositionWiseFeedForward(d_model, d_ff)\n",
        "        self.norm1 = nn.LayerNorm(d_model)\n",
        "        self.norm2 = nn.LayerNorm(d_model)\n",
        "        self.dropout = nn.Dropout(dropout)\n",
        "\n",
        "    def forward(self, x, mask):\n",
        "        attn_output = self.self_attn(x, x, x, mask)\n",
        "        x = self.norm1(x + self.dropout(attn_output))\n",
        "        ff_output = self.feed_forward(x)\n",
        "        x = self.norm2(x + self.dropout(ff_output))\n",
        "        return x"
      ],
      "metadata": {
        "id": "oRmhjCDEIm0J"
      },
      "execution_count": 20,
      "outputs": []
    },
    {
      "cell_type": "markdown",
      "source": [
        "Building the Decoder Blocks"
      ],
      "metadata": {
        "id": "_RZZAso0IqqL"
      }
    },
    {
      "cell_type": "code",
      "source": [
        "class DecoderLayer(nn.Module):\n",
        "    def __init__(self, d_model, num_heads, d_ff, dropout):\n",
        "        super(DecoderLayer, self).__init__()\n",
        "        self.self_attn = MultiHeadAttention(d_model, num_heads)\n",
        "        self.cross_attn = MultiHeadAttention(d_model, num_heads)\n",
        "        self.feed_forward = PositionWiseFeedForward(d_model, d_ff)\n",
        "        self.norm1 = nn.LayerNorm(d_model)\n",
        "        self.norm2 = nn.LayerNorm(d_model)\n",
        "        self.norm3 = nn.LayerNorm(d_model)\n",
        "        self.dropout = nn.Dropout(dropout)\n",
        "\n",
        "    def forward(self, x, enc_output, src_mask, tgt_mask):\n",
        "        attn_output = self.self_attn(x, x, x, tgt_mask)\n",
        "        x = self.norm1(x + self.dropout(attn_output))\n",
        "        attn_output = self.cross_attn(x, enc_output, enc_output, src_mask)\n",
        "        x = self.norm2(x + self.dropout(attn_output))\n",
        "        ff_output = self.feed_forward(x)\n",
        "        x = self.norm3(x + self.dropout(ff_output))\n",
        "        return x"
      ],
      "metadata": {
        "id": "3DKso8viIrGQ"
      },
      "execution_count": null,
      "outputs": []
    },
    {
      "cell_type": "markdown",
      "source": [],
      "metadata": {
        "id": "s40ibdNqIwB_"
      }
    },
    {
      "cell_type": "markdown",
      "source": [
        "Combining the Encoder and Decoder layers to create the complete Transformer network"
      ],
      "metadata": {
        "id": "JqxqLHVGIwDV"
      }
    },
    {
      "cell_type": "code",
      "source": [
        "class Transformer(nn.Module):\n",
        "    def __init__(self, src_vocab_size, tgt_vocab_size, d_model, num_heads, num_layers, d_ff, max_seq_length, dropout):\n",
        "        super(Transformer, self).__init__()\n",
        "        self.encoder_embedding = nn.Embedding(src_vocab_size, d_model)\n",
        "        self.decoder_embedding = nn.Embedding(tgt_vocab_size, d_model)\n",
        "        self.positional_encoding = PositionalEncoding(d_model, max_seq_length)\n",
        "\n",
        "        self.encoder_layers = nn.ModuleList([EncoderLayer(d_model, num_heads, d_ff, dropout) for _ in range(num_layers)])\n",
        "        self.decoder_layers = nn.ModuleList([DecoderLayer(d_model, num_heads, d_ff, dropout) for _ in range(num_layers)])\n",
        "\n",
        "        self.fc = nn.Linear(d_model, tgt_vocab_size)\n",
        "        self.dropout = nn.Dropout(dropout)\n",
        "\n",
        "    def generate_mask(self, src, tgt):\n",
        "        src_mask = (src != 0).unsqueeze(1).unsqueeze(2)\n",
        "        tgt_mask = (tgt != 0).unsqueeze(1).unsqueeze(3)\n",
        "        seq_length = tgt.size(1)\n",
        "        nopeak_mask = (1 - torch.triu(torch.ones(1, seq_length, seq_length), diagonal=1)).bool()\n",
        "        tgt_mask = tgt_mask & nopeak_mask\n",
        "        return src_mask, tgt_mask\n",
        "\n",
        "    def forward(self, src, tgt):\n",
        "        src_mask, tgt_mask = self.generate_mask(src, tgt)\n",
        "        src_embedded = self.dropout(self.positional_encoding(self.encoder_embedding(src)))\n",
        "        tgt_embedded = self.dropout(self.positional_encoding(self.decoder_embedding(tgt)))\n",
        "\n",
        "        enc_output = src_embedded\n",
        "        for enc_layer in self.encoder_layers:\n",
        "            enc_output = enc_layer(enc_output, src_mask)\n",
        "\n",
        "        dec_output = tgt_embedded\n",
        "        for dec_layer in self.decoder_layers:\n",
        "            dec_output = dec_layer(dec_output, enc_output, src_mask, tgt_mask)\n",
        "\n",
        "        output = self.fc(dec_output)\n",
        "        return output"
      ],
      "metadata": {
        "id": "PPaUbAw8Iw54"
      },
      "execution_count": null,
      "outputs": []
    },
    {
      "cell_type": "markdown",
      "source": [
        "Training"
      ],
      "metadata": {
        "id": "boUl6mv4I10y"
      }
    },
    {
      "cell_type": "code",
      "source": [
        "src_vocab_size = 5000\n",
        "tgt_vocab_size = 5000\n",
        "d_model = 512\n",
        "num_heads = 8\n",
        "num_layers = 6\n",
        "d_ff = 2048\n",
        "max_seq_length = 100\n",
        "dropout = 0.1\n",
        "\n",
        "transformer = Transformer(src_vocab_size, tgt_vocab_size, d_model, num_heads, num_layers, d_ff, max_seq_length, dropout)\n",
        "\n",
        "# Generate random sample data\n",
        "src_data = torch.randint(1, src_vocab_size, (64, max_seq_length))  # (batch_size, seq_length)\n",
        "tgt_data = torch.randint(1, tgt_vocab_size, (64, max_seq_length))  # (batch_size, seq_length)"
      ],
      "metadata": {
        "id": "lWbJ_6SlI2UX"
      },
      "execution_count": null,
      "outputs": []
    },
    {
      "cell_type": "markdown",
      "source": [
        "Training the Model\n"
      ],
      "metadata": {
        "id": "NvPPuR3xI7ix"
      }
    },
    {
      "cell_type": "code",
      "source": [
        "criterion = nn.CrossEntropyLoss(ignore_index=0)\n",
        "optimizer = optim.Adam(transformer.parameters(), lr=0.0001, betas=(0.9, 0.98), eps=1e-9)\n",
        "\n",
        "transformer.train()\n",
        "\n",
        "for epoch in range(100):\n",
        "    optimizer.zero_grad()\n",
        "    output = transformer(src_data, tgt_data[:, :-1])\n",
        "    loss = criterion(output.contiguous().view(-1, tgt_vocab_size), tgt_data[:, 1:].contiguous().view(-1))\n",
        "    loss.backward()\n",
        "    optimizer.step()\n",
        "    print(f\"Epoch: {epoch+1}, Loss: {loss.item()}\")"
      ],
      "metadata": {
        "colab": {
          "base_uri": "https://localhost:8080/"
        },
        "id": "vgnYkpjtI79W",
        "outputId": "d0c098be-b5da-4bd9-a3a4-eaed34120e9a"
      },
      "execution_count": null,
      "outputs": [
        {
          "output_type": "stream",
          "name": "stdout",
          "text": [
            "Epoch: 1, Loss: 8.68643856048584\n",
            "Epoch: 2, Loss: 8.54476547241211\n",
            "Epoch: 3, Loss: 8.468620300292969\n",
            "Epoch: 4, Loss: 8.415083885192871\n",
            "Epoch: 5, Loss: 8.355616569519043\n",
            "Epoch: 6, Loss: 8.28990364074707\n",
            "Epoch: 7, Loss: 8.210000991821289\n",
            "Epoch: 8, Loss: 8.134117126464844\n",
            "Epoch: 9, Loss: 8.052332878112793\n",
            "Epoch: 10, Loss: 7.972010612487793\n",
            "Epoch: 11, Loss: 7.888314247131348\n",
            "Epoch: 12, Loss: 7.807709217071533\n",
            "Epoch: 13, Loss: 7.7285051345825195\n",
            "Epoch: 14, Loss: 7.642549991607666\n",
            "Epoch: 15, Loss: 7.559040069580078\n",
            "Epoch: 16, Loss: 7.475619792938232\n",
            "Epoch: 17, Loss: 7.395606994628906\n",
            "Epoch: 18, Loss: 7.31672477722168\n",
            "Epoch: 19, Loss: 7.232667922973633\n",
            "Epoch: 20, Loss: 7.153370380401611\n",
            "Epoch: 21, Loss: 7.07857608795166\n",
            "Epoch: 22, Loss: 6.9909796714782715\n",
            "Epoch: 23, Loss: 6.912936687469482\n",
            "Epoch: 24, Loss: 6.83793306350708\n",
            "Epoch: 25, Loss: 6.764570236206055\n",
            "Epoch: 26, Loss: 6.695486545562744\n",
            "Epoch: 27, Loss: 6.627777576446533\n",
            "Epoch: 28, Loss: 6.5439677238464355\n",
            "Epoch: 29, Loss: 6.477902889251709\n",
            "Epoch: 30, Loss: 6.40287446975708\n",
            "Epoch: 31, Loss: 6.333258628845215\n",
            "Epoch: 32, Loss: 6.266561508178711\n",
            "Epoch: 33, Loss: 6.196227550506592\n",
            "Epoch: 34, Loss: 6.128093719482422\n",
            "Epoch: 35, Loss: 6.069453716278076\n",
            "Epoch: 36, Loss: 5.991771221160889\n",
            "Epoch: 37, Loss: 5.936226844787598\n",
            "Epoch: 38, Loss: 5.868597030639648\n",
            "Epoch: 39, Loss: 5.803548336029053\n",
            "Epoch: 40, Loss: 5.742720603942871\n",
            "Epoch: 41, Loss: 5.672017574310303\n",
            "Epoch: 42, Loss: 5.6193952560424805\n",
            "Epoch: 43, Loss: 5.558985710144043\n",
            "Epoch: 44, Loss: 5.497487545013428\n",
            "Epoch: 45, Loss: 5.431828022003174\n",
            "Epoch: 46, Loss: 5.374785900115967\n",
            "Epoch: 47, Loss: 5.312562942504883\n",
            "Epoch: 48, Loss: 5.261613845825195\n",
            "Epoch: 49, Loss: 5.204014778137207\n",
            "Epoch: 50, Loss: 5.145258903503418\n",
            "Epoch: 51, Loss: 5.086127758026123\n",
            "Epoch: 52, Loss: 5.039150238037109\n",
            "Epoch: 53, Loss: 4.976292610168457\n",
            "Epoch: 54, Loss: 4.925015449523926\n",
            "Epoch: 55, Loss: 4.865359783172607\n",
            "Epoch: 56, Loss: 4.808020114898682\n",
            "Epoch: 57, Loss: 4.757443904876709\n",
            "Epoch: 58, Loss: 4.706164360046387\n",
            "Epoch: 59, Loss: 4.652426242828369\n",
            "Epoch: 60, Loss: 4.604849338531494\n",
            "Epoch: 61, Loss: 4.546165943145752\n",
            "Epoch: 62, Loss: 4.4942240715026855\n",
            "Epoch: 63, Loss: 4.44338321685791\n",
            "Epoch: 64, Loss: 4.39345121383667\n",
            "Epoch: 65, Loss: 4.342552661895752\n",
            "Epoch: 66, Loss: 4.294155597686768\n",
            "Epoch: 67, Loss: 4.242366790771484\n",
            "Epoch: 68, Loss: 4.1860737800598145\n",
            "Epoch: 69, Loss: 4.139740943908691\n",
            "Epoch: 70, Loss: 4.0935516357421875\n",
            "Epoch: 71, Loss: 4.03837251663208\n",
            "Epoch: 72, Loss: 3.9954299926757812\n",
            "Epoch: 73, Loss: 3.95198130607605\n",
            "Epoch: 74, Loss: 3.8951377868652344\n",
            "Epoch: 75, Loss: 3.8647513389587402\n",
            "Epoch: 76, Loss: 3.8116321563720703\n",
            "Epoch: 77, Loss: 3.7522025108337402\n",
            "Epoch: 78, Loss: 3.7161121368408203\n",
            "Epoch: 79, Loss: 3.668539047241211\n",
            "Epoch: 80, Loss: 3.623183012008667\n",
            "Epoch: 81, Loss: 3.5715675354003906\n",
            "Epoch: 82, Loss: 3.5224874019622803\n",
            "Epoch: 83, Loss: 3.476768732070923\n",
            "Epoch: 84, Loss: 3.423560857772827\n",
            "Epoch: 85, Loss: 3.39078688621521\n",
            "Epoch: 86, Loss: 3.346996545791626\n",
            "Epoch: 87, Loss: 3.294919967651367\n",
            "Epoch: 88, Loss: 3.248403787612915\n"
          ]
        }
      ]
    },
    {
      "cell_type": "markdown",
      "source": [
        "Transformer Model Performance Evaluation\n"
      ],
      "metadata": {
        "id": "_-WrJC8nI_wD"
      }
    },
    {
      "cell_type": "code",
      "source": [
        "transformer.eval()\n",
        "\n",
        "# Generate random sample validation data\n",
        "val_src_data = torch.randint(1, src_vocab_size, (64, max_seq_length))  # (batch_size, seq_length)\n",
        "val_tgt_data = torch.randint(1, tgt_vocab_size, (64, max_seq_length))  # (batch_size, seq_length)\n",
        "\n",
        "with torch.no_grad():\n",
        "\n",
        "    val_output = transformer(val_src_data, val_tgt_data[:, :-1])\n",
        "    val_loss = criterion(val_output.contiguous().view(-1, tgt_vocab_size), val_tgt_data[:, 1:].contiguous().view(-1))\n",
        "    print(f\"Validation Loss: {val_loss.item()}\")"
      ],
      "metadata": {
        "id": "rZWW4GmAJATg",
        "colab": {
          "base_uri": "https://localhost:8080/"
        },
        "outputId": "5647335d-885b-454b-8775-d100f5e6cfac"
      },
      "execution_count": 21,
      "outputs": [
        {
          "output_type": "stream",
          "name": "stdout",
          "text": [
            "Validation Loss: 8.815751075744629\n"
          ]
        }
      ]
    }
  ]
}